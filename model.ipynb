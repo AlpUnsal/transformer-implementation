{
 "cells": [
  {
   "cell_type": "code",
   "execution_count": 1,
   "id": "2829c6f8",
   "metadata": {},
   "outputs": [],
   "source": [
    "import torch\n",
    "import torch.nn as nn\n",
    "import numpy as np"
   ]
  },
  {
   "cell_type": "code",
   "execution_count": null,
   "id": "7d79984e",
   "metadata": {},
   "outputs": [],
   "source": [
    "class Encoder(nn.Module):\n",
    "    def __init__(self, model_dim:int=512, num_heads:int=8):\n",
    "        super().__init__()\n",
    "        self.attention = nn.MultiheadAttention(embed_dim=model_dim, num_heads=num_heads)  ### IMPLEMENT FROM SCRATCH\n",
    "        self.ffnn = nn.Sequential(\n",
    "            nn.Linear(model_dim, 2048),\n",
    "            nn.ReLU(),\n",
    "            nn.Linear(2048, model_dim)\n",
    "        )\n",
    "        self.layernorm = nn.LayerNorm(normalized_shape=model_dim)\n",
    "\n",
    "        self.queryM = nn.Parameter(torch.randn(model_dim, model_dim)) \n",
    "        self.keyM = nn.Parameter(torch.randn(model_dim, model_dim))\n",
    "        self.valueM = nn.Parameter(torch.randn(model_dim, model_dim))\n",
    "\n",
    "    def forward(self, inputs, num_stacks:int=6):\n",
    "        return self._stack(inputs, num_stacks)\n",
    "\n",
    "    def _stack(self, input, num_stacks:int=6):\n",
    "        if num_stacks < 1:\n",
    "            return input\n",
    "        \n",
    "        query = input @ self.queryM\n",
    "        key = input @ self.keyM\n",
    "        value = input @ self.valueM\n",
    "\n",
    "        layer = self.layernorm(input + self.attention.forward(query=query, key=key, value=value))\n",
    "        \n",
    "        output = self.layernorm(layer + self.ffnn(layer))\n",
    "\n",
    "        return self._stack(output, num_stacks-1)    "
   ]
  },
  {
   "cell_type": "code",
   "execution_count": null,
   "id": "bed3a105",
   "metadata": {},
   "outputs": [],
   "source": [
    "class Decoder(nn.module):\n",
    "    def __init__(self, model_dim:int=512, num_heads:int=8):\n",
    "        super().__init__()\n",
    "        self.attention = nn.MultiheadAttention(embed_dim=model_dim, num_heads=num_heads)\n",
    "        self.ffnn = nn.Sequential(\n",
    "            nn.Linear(model_dim, 2048),\n",
    "            nn.ReLU(),\n",
    "            nn.Linear(2048, model_dim)\n",
    "        )\n",
    "        self.layernorm = nn.LayerNorm(normalized_shape=model_dim)\n",
    "\n",
    "        self.queryMSelf = nn.Parameter(torch.randn(model_dim, model_dim)) # for self attention layers\n",
    "        self.keyMSelf = nn.Parameter(torch.randn(model_dim, model_dim))   # ^\n",
    "        self.valueMSelf = nn.Parameter(torch.randn(model_dim, model_dim)) # ^\n",
    "\n",
    "        self.queryMDec = nn.Parameter(torch.randn(model_dim, model_dim)) # for 'encoder-decoder' layer\n",
    "        self.keyMEnc = nn.Parameter(torch.randn(model_dim, model_dim))   # ^\n",
    "        self.valueEnc = nn.Parameter(torch.randn(model_dim, model_dim))  # ^\n",
    "\n",
    "    def forward(self, encoder_output, num_stacks:int=6):\n",
    "        return self._stack(encoder_output, num_stacks)\n",
    "\n",
    "    def _stack(self, input, encoder_output, num_stacks:int=6):\n",
    "        if num_stacks < 1:\n",
    "            return input\n",
    "        \n",
    "        querySelf = input @ self.queryMSelf\n",
    "        keySelf = input @ self.keyMSelf\n",
    "        valueSelf = input @ self.valueMSelf\n",
    "\n",
    "        queryDec = input @ self.queryMDec\n",
    "        keySelf = input @ self.keyMEnc\n",
    "        valueSelf = input @ self.valueEnc\n",
    "\n",
    "        self.layernorm(input + self.attention.forward(query=querySelf, key=keySelf, value=valueSelf)) ### Add attn_mask tensor. understand how to initialize (randn, rand, etc.). shape is (target_seq_len, source_seq_len)\n",
    "\n",
    "\n",
    "\n",
    "\n",
    "\n",
    "\n"
   ]
  }
 ],
 "metadata": {
  "kernelspec": {
   "display_name": "env",
   "language": "python",
   "name": "python3"
  },
  "language_info": {
   "codemirror_mode": {
    "name": "ipython",
    "version": 3
   },
   "file_extension": ".py",
   "mimetype": "text/x-python",
   "name": "python",
   "nbconvert_exporter": "python",
   "pygments_lexer": "ipython3",
   "version": "3.11.11"
  }
 },
 "nbformat": 4,
 "nbformat_minor": 5
}
