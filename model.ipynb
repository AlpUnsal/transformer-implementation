{
 "cells": [
  {
   "cell_type": "code",
   "execution_count": 1,
   "id": "2829c6f8",
   "metadata": {},
   "outputs": [],
   "source": [
    "import torch\n",
    "import torch.nn as nn\n",
    "import numpy as np"
   ]
  },
  {
   "cell_type": "code",
   "execution_count": null,
   "id": "7d79984e",
   "metadata": {},
   "outputs": [],
   "source": [
    "class Encoder(nn.Module):\n",
    "    def __init__(self, model_dim:int=512, num_heads:int=8):\n",
    "        super().__init__()\n",
    "        self.num_stacks = 6\n",
    "        self.attention = nn.MultiheadAttention(embed_dim=model_dim, num_heads=num_heads)  ### IMPLEMENT FROM SCRATCH\n",
    "        self.ffnn = nn.Sequential(\n",
    "            nn.Linear(model_dim, 2048),\n",
    "            nn.ReLU(),\n",
    "            nn.Linear(2048, model_dim)\n",
    "        )\n",
    "        self.layernorm = nn.LayerNorm(normalized_shape=model_dim)\n",
    "        self.queryM = torch.randn(model_dim, model_dim/num_heads)\n",
    "        self.keyM = torch.randn(model_dim, model_dim/num_heads)\n",
    "        self.valueM = torch.randn(model_dim, model_dim/num_heads)\n",
    "\n",
    "    def forward(self, inputs):\n",
    "        return self._stack(inputs, self.num_stacks)\n",
    "\n",
    "    def _stack(self, input, num_stacks):\n",
    "        if num_stacks < 1:\n",
    "            return input\n",
    "        \n",
    "        query = self.queryM * input\n",
    "        key = self.keyM * input\n",
    "        value = self.valueM * input\n",
    "\n",
    "        layer = self.layernorm(input + self.attention.forward(query=query, key=key, value=value))\n",
    "        \n",
    "        output = self.layernorm(layer + self.ffnn(layer))\n",
    "\n",
    "        return self._stack(output, num_stacks-1)    "
   ]
  },
  {
   "cell_type": "markdown",
   "id": "bed3a105",
   "metadata": {},
   "source": []
  }
 ],
 "metadata": {
  "kernelspec": {
   "display_name": "env",
   "language": "python",
   "name": "python3"
  },
  "language_info": {
   "codemirror_mode": {
    "name": "ipython",
    "version": 3
   },
   "file_extension": ".py",
   "mimetype": "text/x-python",
   "name": "python",
   "nbconvert_exporter": "python",
   "pygments_lexer": "ipython3",
   "version": "3.11.11"
  }
 },
 "nbformat": 4,
 "nbformat_minor": 5
}
