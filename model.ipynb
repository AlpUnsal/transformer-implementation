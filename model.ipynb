{
 "cells": [
  {
   "cell_type": "code",
   "execution_count": 1,
   "id": "2829c6f8",
   "metadata": {},
   "outputs": [],
   "source": [
    "import torch\n",
    "import torch.nn as nn\n",
    "import numpy as np"
   ]
  },
  {
   "cell_type": "code",
   "execution_count": null,
   "id": "7d79984e",
   "metadata": {},
   "outputs": [],
   "source": [
    "class Encoder(nn.Module):\n",
    "    def __init__(self, model_dim:int=512, num_heads:int=8):\n",
    "        super().__init__()\n",
    "        self.attention = nn.MultiheadAttention(embed_dim=model_dim, num_heads=num_heads)  ### IMPLEMENT FROM SCRATCH\n",
    "        self.ffnn = nn.Sequential(\n",
    "            nn.Linear(model_dim, 2048),\n",
    "            nn.ReLU(),\n",
    "            nn.Linear(2048, model_dim)\n",
    "        )\n",
    "        self.layernorm = nn.LayerNorm(normalized_shape=model_dim)\n",
    "\n",
    "        self.queryM = nn.Parameter(torch.randn(model_dim, model_dim)) \n",
    "        self.keyM = nn.Parameter(torch.randn(model_dim, model_dim))\n",
    "        self.valueM = nn.Parameter(torch.randn(model_dim, model_dim))\n",
    "\n",
    "    def forward(self, inputs, num_stacks:int=6):\n",
    "        return self._stack(inputs, num_stacks)\n",
    "\n",
    "    def _stack(self, input, num_stacks:int=6):\n",
    "        if num_stacks < 1:\n",
    "            return input\n",
    "        \n",
    "        query = torch.swapaxes(input @ self.queryM, 0, 1)\n",
    "        key = torch.swapaxes(input @ self.keyM, 0, 1)\n",
    "        value = torch.swapaxes(input @ self.valueM, 0, 1)\n",
    "\n",
    "        layer = self.layernorm(input + self.attention.forward(query=query, key=key, value=value))\n",
    "        \n",
    "        output = self.layernorm(layer + self.ffnn(layer))\n",
    "\n",
    "        return self._stack(output, num_stacks-1)    "
   ]
  },
  {
   "cell_type": "code",
   "execution_count": null,
   "id": "bed3a105",
   "metadata": {},
   "outputs": [],
   "source": [
    "class Decoder(nn.Module):\n",
    "    def __init__(self, model_dim:int=512, num_heads:int=8):\n",
    "        super().__init__()\n",
    "        self.attention = nn.MultiheadAttention(embed_dim=model_dim, num_heads=num_heads)\n",
    "        self.maskedAttention = nn.MultiheadAttention(embed_dim=model_dim, num_heads=num_heads)\n",
    "        self.ffnn = nn.Sequential(\n",
    "            nn.Linear(model_dim, 2048),\n",
    "            nn.ReLU(),\n",
    "            nn.Linear(2048, model_dim)\n",
    "        )\n",
    "        self.layernorm = nn.LayerNorm(normalized_shape=model_dim)\n",
    "\n",
    "        self.queryMSelf = nn.Parameter(torch.randn(model_dim, model_dim)) # for self attention layers\n",
    "        self.keyMSelf = nn.Parameter(torch.randn(model_dim, model_dim))   # ^\n",
    "        self.valueMSelf = nn.Parameter(torch.randn(model_dim, model_dim)) # ^\n",
    "\n",
    "        self.queryMDec = nn.Parameter(torch.randn(model_dim, model_dim)) # for 'encoder-decoder' layer\n",
    "        self.keyMEnc = nn.Parameter(torch.randn(model_dim, model_dim))   # ^\n",
    "        self.valueMEnc = nn.Parameter(torch.randn(model_dim, model_dim)) # ^\n",
    "\n",
    "    def forward(self, input, encoder_output, num_stacks:int=6):\n",
    "        return self._stack(input, encoder_output, num_stacks)\n",
    "\n",
    "    def _stack(self, input, encoder_output, num_stacks:int=6):\n",
    "        if num_stacks < 1:\n",
    "            return input\n",
    "        \n",
    "        querySelf = torch.swapaxes(input @ self.queryMSelf, 0, 1)\n",
    "        keySelf = torch.swapaxes(input @ self.keyMSelf, 0, 1)\n",
    "        valueSelf = torch.swapaxes(input @ self.valueMSelf, 0, 1)\n",
    "\n",
    "        queryDec = torch.swapaxes(input @ self.queryMDec, 0, 1)\n",
    "        keyEnc = torch.swapaxes(encoder_output @ self.keyMEnc, 0, 1)\n",
    "        valueEnc = torch.swapaxes(encoder_output @ self.valueMEnc, 0, 1)\n",
    "\n",
    "        \n",
    "        mask = torch.tril(torch.ones(input.shape[0], input.shape[0]))\n",
    "\n",
    "        layer1 = self.layernorm(input + self.maskedAttention.forward(query=querySelf, key=keySelf, value=valueSelf, attn_mask=mask))\n",
    "        layer2 = self.layernorm(layer1 + self.attention.forward(query=queryDec, key=keyEnc, value=valueEnc))\n",
    "\n",
    "        output = self.layernorm(layer2 + self.ffnn.forward(layer2))\n",
    "\n",
    "        return self._stack(output, encoder_output, num_stacks-1)\n",
    "\n"
   ]
  },
  {
   "cell_type": "code",
   "execution_count": 6,
   "id": "55b72cca",
   "metadata": {},
   "outputs": [
    {
     "name": "stdout",
     "output_type": "stream",
     "text": [
      "torch.Size([6, 5])\n"
     ]
    }
   ],
   "source": [
    "mask = torch.tensor([[True] * 5]*6)\n",
    "print(mask.shape)"
   ]
  },
  {
   "cell_type": "code",
   "execution_count": null,
   "id": "95490669",
   "metadata": {},
   "outputs": [],
   "source": []
  }
 ],
 "metadata": {
  "kernelspec": {
   "display_name": "env",
   "language": "python",
   "name": "python3"
  },
  "language_info": {
   "codemirror_mode": {
    "name": "ipython",
    "version": 3
   },
   "file_extension": ".py",
   "mimetype": "text/x-python",
   "name": "python",
   "nbconvert_exporter": "python",
   "pygments_lexer": "ipython3",
   "version": "3.11.11"
  }
 },
 "nbformat": 4,
 "nbformat_minor": 5
}
